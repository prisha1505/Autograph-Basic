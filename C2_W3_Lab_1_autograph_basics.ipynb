{
  "cells": [
    {
      "cell_type": "markdown",
      "metadata": {
        "id": "view-in-github",
        "colab_type": "text"
      },
      "source": [
        "<a href=\"https://colab.research.google.com/github/prisha1505/Autograph-Basic/blob/main/C2_W3_Lab_1_autograph_basics.ipynb\" target=\"_parent\"><img src=\"https://colab.research.google.com/assets/colab-badge.svg\" alt=\"Open In Colab\"/></a>"
      ]
    },
    {
      "cell_type": "markdown",
      "metadata": {
        "id": "hrXv0rU9sIma"
      },
      "source": [
        "# Autograph: Basic\n",
        "Basics of autograph so we can explore what the generated code looks like."
      ]
    },
    {
      "cell_type": "markdown",
      "metadata": {
        "id": "kK-kQGrWsFv2"
      },
      "source": [
        "## Imports"
      ]
    },
    {
      "cell_type": "code",
      "execution_count": null,
      "metadata": {
        "id": "NiolgWMPgpwI"
      },
      "outputs": [],
      "source": [
        "import tensorflow as tf"
      ]
    },
    {
      "cell_type": "markdown",
      "metadata": {
        "id": "3x4V5ILqsFv5"
      },
      "source": [
        "## Addition in autograph\n",
        "Use the `@tf.function` decorator to automatically generate the graph-style code as shown below:"
      ]
    },
    {
      "cell_type": "code",
      "execution_count": null,
      "metadata": {
        "tags": [],
        "id": "s5o4vGR8sFv5"
      },
      "outputs": [],
      "source": [
        "@tf.function\n",
        "def add(a, b):\n",
        "    return a + b\n",
        "\n",
        "\n",
        "a = tf.Variable([[1.,2.],[3.,4.]])\n",
        "b = tf.Variable([[4.,0.],[1.,5.]])\n",
        "print(add(a, b))\n",
        "\n",
        "# See what the generated code looks like\n",
        "print(tf.autograph.to_code(add.python_function))"
      ]
    },
    {
      "cell_type": "markdown",
      "metadata": {
        "id": "znTGrqnEsFv7"
      },
      "source": [
        "## if-statements in autograph\n",
        "Control flow statements which are very intuitive to write in eager mode can look very complex in graph mode.In the next examples: first a simple function, then a more complicated one that involves lots of ops and conditionals (fizzbuzz)."
      ]
    },
    {
      "cell_type": "code",
      "execution_count": null,
      "metadata": {
        "tags": [],
        "id": "59eDRr1vsFv7"
      },
      "outputs": [],
      "source": [
        "# simple function that returns the square if the input is greater than zero\n",
        "@tf.function\n",
        "def f(x):\n",
        "    if x>0:\n",
        "        x = x * x\n",
        "    return x\n",
        "\n",
        "print(tf.autograph.to_code(f.python_function))"
      ]
    },
    {
      "cell_type": "markdown",
      "metadata": {
        "id": "DkoGJ-dusFv9"
      },
      "source": [
        "## Fizzbuzz in autograph\n",
        "\n",
        "Implementing [fizzbuzz](http://wiki.c2.com/?FizzBuzzTest) in preparation for a coding interview.  \n",
        "- Imagine how much fun it would be if you were asked to impement the graph mode version of that code!  \n",
        "\n",
        "Fortunately, you can just use `@tf.function` and then call `tf.autograph.to_code`!\n"
      ]
    },
    {
      "cell_type": "code",
      "execution_count": null,
      "metadata": {
        "tags": [],
        "id": "doYNv2YtsFv9"
      },
      "outputs": [],
      "source": [
        "@tf.function\n",
        "def fizzbuzz(max_num):\n",
        "    counter = 0\n",
        "    for num in range(max_num):\n",
        "        if num % 3 == 0 and num % 5 == 0:\n",
        "            print('FizzBuzz')\n",
        "        elif num % 3 == 0:\n",
        "            print('Fizz')\n",
        "        elif num % 5 == 0:\n",
        "            print('Buzz')\n",
        "        else:\n",
        "            print(num)\n",
        "        counter += 1\n",
        "    return counter\n",
        "\n",
        "print(tf.autograph.to_code(fizzbuzz.python_function))"
      ]
    }
  ],
  "metadata": {
    "colab": {
      "private_outputs": true,
      "provenance": [],
      "include_colab_link": true
    },
    "kernelspec": {
      "display_name": "Python 3",
      "language": "python",
      "name": "python3"
    },
    "language_info": {
      "codemirror_mode": {
        "name": "ipython",
        "version": 3
      },
      "file_extension": ".py",
      "mimetype": "text/x-python",
      "name": "python",
      "nbconvert_exporter": "python",
      "pygments_lexer": "ipython3",
      "version": "3.7.6"
    }
  },
  "nbformat": 4,
  "nbformat_minor": 0
}